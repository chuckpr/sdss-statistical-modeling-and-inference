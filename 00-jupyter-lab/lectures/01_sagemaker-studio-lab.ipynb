{
 "cells": [
  {
   "cell_type": "markdown",
   "id": "9e5ffb5c-49d5-4187-8f88-736084349c5a",
   "metadata": {},
   "source": [
    "[![Open In Studio Lab](https://studiolab.sagemaker.aws/studiolab.svg)](https://studiolab.sagemaker.aws/import/github/chuckpr/sdss-statistical-modeling-and-inference/blob/main/00-jupyter-lab/lectures/01_sagemaker-studio-lab.ipynb)"
   ]
  },
  {
   "cell_type": "markdown",
   "id": "424f26a1",
   "metadata": {},
   "source": [
    "Welcome to Statistical Modeling and Inference! This notebook will familiarize you with the coding environment you will use in the course 💻."
   ]
  },
  {
   "cell_type": "markdown",
   "id": "ec362258-3c20-4c37-8045-48b5f5381db8",
   "metadata": {},
   "source": [
    "## Sagemaker Studio Lab"
   ]
  },
  {
   "cell_type": "markdown",
   "id": "4c0a02d0-b2db-4bc9-8cd1-83830b337b33",
   "metadata": {},
   "source": [
    "The notebooks in this course are designed to run on [SageMaker Studio Lab](https://studiolab.sagemaker.aws/). SageMaker Studio Lab provides free access to compute which we can use via the [JupyterLab](https://blog.jupyter.org/jupyterlab-is-ready-for-users-5a6f039b8906) interface."
   ]
  },
  {
   "cell_type": "markdown",
   "id": "8505da54-a9bb-4a2f-912f-552aebef59e6",
   "metadata": {},
   "source": [
    "When we use Studio Lab, we are connecting to a remote server with our web browser. When we execute code in a Jupyter notebook on Stuio Lab, that execution happens on the remote server. When we save our notebooks, they are stored remotely on AWS."
   ]
  },
  {
   "cell_type": "markdown",
   "id": "7b9d6515-b0e8-4e3b-8fe7-c1f694a1a12f",
   "metadata": {},
   "source": [
    "### Conceptual model for Studio Lab"
   ]
  },
  {
   "cell_type": "code",
   "execution_count": null,
   "id": "1c71f2a8-62c9-4eb4-a294-399a1af7df2f",
   "metadata": {},
   "outputs": [],
   "source": []
  },
  {
   "cell_type": "markdown",
   "id": "79d5df12-c8d8-4dea-b992-d615cfb29de9",
   "metadata": {
    "tags": []
   },
   "source": [
    "### Signing up for Studio Lab and clone the course repo"
   ]
  },
  {
   "cell_type": "code",
   "execution_count": null,
   "id": "ad912a6b-24dc-4f6d-b719-3bbdec4b9eb7",
   "metadata": {},
   "outputs": [],
   "source": []
  }
 ],
 "metadata": {
  "kernelspec": {
   "display_name": "R",
   "language": "R",
   "name": "ir"
  },
  "language_info": {
   "codemirror_mode": "r",
   "file_extension": ".r",
   "mimetype": "text/x-r-source",
   "name": "R",
   "pygments_lexer": "r",
   "version": "4.2.2"
  }
 },
 "nbformat": 4,
 "nbformat_minor": 5
}
